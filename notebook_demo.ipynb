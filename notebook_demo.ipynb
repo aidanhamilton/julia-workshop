{
 "cells": [
  {
   "cell_type": "markdown",
   "metadata": {},
   "source": [
    "An ancient way to find the square root of a positive number $a$ is to start with $x_0=a/2$, then iterate via\n",
    "\n",
    "$$\n",
    "x_{i+1} = \\frac{1}{2}\\left( x_i + \\frac{a}{x_i} \\right). \n",
    "$$\n",
    "\n",
    "The idea is to average the side lengths of a rectangle of area $a$ at each step."
   ]
  },
  {
   "cell_type": "code",
   "execution_count": 4,
   "metadata": {},
   "outputs": [
    {
     "name": "stdout",
     "output_type": "stream",
     "text": [
      "[6.5, 4.25, 3.6544117647058822, 3.6058779145461, 3.6055512902583184, 3.6055512754639896, 3.6055512754639896, 3.6055512754639896, 3.6055512754639896]\n"
     ]
    }
   ],
   "source": [
    "a = 13\n",
    "x = [ a/2 ]\n",
    "for i in 1:8\n",
    "    z = (x[end] + a/x[end]) / 2\n",
    "    push!(x,z)\n",
    "end\n",
    "println(x)"
   ]
  },
  {
   "cell_type": "markdown",
   "metadata": {},
   "source": [
    "This iteration is actually a special case of Newton's method, so asymptotically the number of accurate digits doubles at each step until machine precision is reached."
   ]
  },
  {
   "cell_type": "code",
   "execution_count": 5,
   "metadata": {},
   "outputs": [
    {
     "name": "stdout",
     "output_type": "stream",
     "text": [
      "[0.4615658603984823, -0.19081163150987207, -1.3110421887340364, -3.485931853494877, -7.8299047182664205, -15.35252977886304, -15.35252977886304, -15.35252977886304, -15.35252977886304]\n"
     ]
    }
   ],
   "source": [
    "println(@. log10(abs(x-sqrt(a))))"
   ]
  },
  {
   "cell_type": "markdown",
   "metadata": {},
   "source": [
    "We can observe the convergence longer by using the `BigFloat` type for extended precision."
   ]
  },
  {
   "cell_type": "code",
   "execution_count": 11,
   "metadata": {},
   "outputs": [
    {
     "name": "stdout",
     "output_type": "stream",
     "text": [
      "values:\n",
      "6.5\n",
      "4.25\n",
      "3.654411764705882352941176470588235294117647058823529411764705882352941176470592\n",
      "3.605877914546100130192922239318262516274115279914782814534264409989347851816767\n",
      "3.605551290258318509287435913333239948749768094417989983141517022527297316279209\n",
      "3.605551275463989323471331019414614991915901204749802818739308631143177443524783\n",
      "3.605551275463989293119221267470496074005764061692562141629175932630247092257902\n",
      "3.60555127546398929311922126747049594625129657384524621271045305622716921163679\n",
      "3.605551275463989293119221267470495946251296573845246212710453056227166948293018\n",
      "\n",
      "log errors:\n",
      "0.4615658603984822945910669852764904812000648102788092093488519448165092911482467\n",
      "-0.1908116315098721800243711873893474684295995678294498531034870853645345093337013\n",
      "-1.311042188734037093375173374382538940098576632621837562276915191946654891650113\n",
      "-3.485931853495169984587744758615820125407198421818769027332891804144023672223912\n",
      "-7.829904721231354608604061989521987293580494758163328768463594671931464417480377\n",
      "-16.51781111606210967233740271671804808660466095734773811019035289817321258773811\n",
      "-33.89362390394161892814775761114223288090539155872072834091939614172177408012769\n",
      "-68.6452494774810712399167271815726821016307236582286569981897615014932786497268\n",
      "-Inf\n"
     ]
    }
   ],
   "source": [
    "a = 13\n",
    "x = [ BigFloat(a)/2 ]\n",
    "for i in 1:8\n",
    "    z = (x[end] + a/x[end]) / 2\n",
    "    push!(x,z)\n",
    "end\n",
    "\n",
    "println(\"values:\")\n",
    "foreach(println,x)\n",
    "\n",
    "println(\"\\nlog errors:\")\n",
    "foreach(println,@. log10(abs(x-sqrt(BigFloat(a)))))"
   ]
  },
  {
   "cell_type": "code",
   "execution_count": null,
   "metadata": {},
   "outputs": [],
   "source": []
  }
 ],
 "metadata": {
  "kernelspec": {
   "display_name": "Julia 1.8.0-beta1",
   "language": "julia",
   "name": "julia-1.8"
  },
  "language_info": {
   "file_extension": ".jl",
   "mimetype": "application/julia",
   "name": "julia",
   "version": "1.8.0"
  },
  "orig_nbformat": 4
 },
 "nbformat": 4,
 "nbformat_minor": 2
}
