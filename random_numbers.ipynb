{
 "cells": [
  {
   "cell_type": "markdown",
   "metadata": {},
   "source": [
    "# Random number generation\n",
    "\n",
    "For simple usage, there are two basic commands to generate pseudorandom numbers: `randn`, for the standard normal distribution, and `rand`, for the uniform distribution over $[0,1]$."
   ]
  },
  {
   "cell_type": "code",
   "execution_count": 1,
   "metadata": {},
   "outputs": [
    {
     "data": {
      "text/plain": [
       "5-element Vector{Float64}:\n",
       " -0.7286639309251524\n",
       " -0.0015280048108908138\n",
       " -1.3565813576926942\n",
       "  1.1764516857412979\n",
       "  0.6074647823212497"
      ]
     },
     "execution_count": 1,
     "metadata": {},
     "output_type": "execute_result"
    }
   ],
   "source": [
    "randn(5)  # standard normal"
   ]
  },
  {
   "cell_type": "code",
   "execution_count": 7,
   "metadata": {},
   "outputs": [
    {
     "data": {
      "text/plain": [
       "(8.709316352669742e-5, 1.0004329952681237)"
      ]
     },
     "execution_count": 7,
     "metadata": {},
     "output_type": "execute_result"
    }
   ],
   "source": [
    "using Statistics\n",
    "x = randn(1_000_000)\n",
    "mean(x),var(x)"
   ]
  },
  {
   "cell_type": "code",
   "execution_count": 4,
   "metadata": {},
   "outputs": [
    {
     "data": {
      "text/plain": [
       "5-element Vector{Float64}:\n",
       " 0.23003863486224707\n",
       " 0.11017836825245841\n",
       " 0.7687974416979877\n",
       " 0.24903424077477898\n",
       " 0.3320252719181691"
      ]
     },
     "execution_count": 4,
     "metadata": {},
     "output_type": "execute_result"
    }
   ],
   "source": [
    "rand(5)"
   ]
  },
  {
   "cell_type": "code",
   "execution_count": 6,
   "metadata": {},
   "outputs": [
    {
     "data": {
      "text/plain": [
       "(0.499747771925633, 0.08333279929299822)"
      ]
     },
     "execution_count": 6,
     "metadata": {},
     "output_type": "execute_result"
    }
   ],
   "source": [
    "x = rand(1_000_000)\n",
    "mean(x),var(x)"
   ]
  },
  {
   "cell_type": "markdown",
   "metadata": {},
   "source": [
    "A different use of `rand` is to select randomly with replacement from a finite collection."
   ]
  },
  {
   "cell_type": "code",
   "execution_count": 8,
   "metadata": {},
   "outputs": [
    {
     "data": {
      "text/plain": [
       "5-element Vector{Int64}:\n",
       "  50\n",
       "  40\n",
       " 100\n",
       "  40\n",
       "  80"
      ]
     },
     "execution_count": 8,
     "metadata": {},
     "output_type": "execute_result"
    }
   ],
   "source": [
    "rand(10:10:100,5)"
   ]
  },
  {
   "cell_type": "code",
   "execution_count": 9,
   "metadata": {},
   "outputs": [
    {
     "data": {
      "text/plain": [
       "5-element Vector{String}:\n",
       " \"Curly\"\n",
       " \"Moe\"\n",
       " \"Curly\"\n",
       " \"Moe\"\n",
       " \"Curly\""
      ]
     },
     "execution_count": 9,
     "metadata": {},
     "output_type": "execute_result"
    }
   ],
   "source": [
    "rand((\"Moe\",\"Larry\",\"Curly\"),5)"
   ]
  },
  {
   "cell_type": "markdown",
   "metadata": {},
   "source": [
    "There are other useful functions in the `Random` standard library. One of those sets the seed of the generator, which allows you to create reproducible results."
   ]
  },
  {
   "cell_type": "code",
   "execution_count": 10,
   "metadata": {},
   "outputs": [
    {
     "name": "stdout",
     "output_type": "stream",
     "text": [
      "-1.4331413888665971\n",
      "-1.4331413888665971\n",
      "-1.4331413888665971\n",
      "-1.4331413888665971\n",
      "-1.4331413888665971\n"
     ]
    }
   ],
   "source": [
    "using Random\n",
    "for _ in 1:5\n",
    "    Random.seed!(131)\n",
    "    println(randn())\n",
    "end"
   ]
  },
  {
   "cell_type": "markdown",
   "metadata": {},
   "source": [
    "Another useful package is `Distributions`, which has to be installed. It has lots of standard probability distributions and can find the best fit of sample data to a particular family."
   ]
  },
  {
   "cell_type": "code",
   "execution_count": 5,
   "metadata": {},
   "outputs": [
    {
     "data": {
      "text/plain": [
       "Beta{Float64}(α=1.0, β=5.0)"
      ]
     },
     "metadata": {},
     "output_type": "display_data"
    }
   ],
   "source": [
    "using Distributions\n",
    "β = Distributions.Beta(1,5)"
   ]
  },
  {
   "cell_type": "code",
   "execution_count": 7,
   "metadata": {},
   "outputs": [
    {
     "data": {
      "text/plain": [
       "11-element Vector{Float64}:\n",
       " 4.999999999999998\n",
       " 3.2804999999999986\n",
       " 2.047999999999999\n",
       " 1.2005\n",
       " 0.6479999999999997\n",
       " 0.31249999999999994\n",
       " 0.128\n",
       " 0.0405\n",
       " 0.00799999999999999\n",
       " 0.0004999999999999991\n",
       " 0.0"
      ]
     },
     "metadata": {},
     "output_type": "display_data"
    }
   ],
   "source": [
    "pdf.(β,0:0.1:1)"
   ]
  },
  {
   "cell_type": "code",
   "execution_count": 8,
   "metadata": {},
   "outputs": [
    {
     "data": {
      "text/plain": [
       "Normal{Float64}(μ=2.9994490662295816, σ=1.998317598573136)"
      ]
     },
     "metadata": {},
     "output_type": "display_data"
    }
   ],
   "source": [
    "x = 3 .+ 2randn(1_000_000)\n",
    "fit(Distributions.Normal,x)"
   ]
  }
 ],
 "metadata": {
  "kernelspec": {
   "display_name": "Julia 1.8.0-rc1",
   "language": "julia",
   "name": "julia-1.8"
  },
  "language_info": {
   "file_extension": ".jl",
   "mimetype": "application/julia",
   "name": "julia",
   "version": "1.8.0-rc1"
  },
  "orig_nbformat": 4
 },
 "nbformat": 4,
 "nbformat_minor": 2
}
