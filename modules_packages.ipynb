{
 "cells": [
  {
   "cell_type": "code",
   "execution_count": 1,
   "metadata": {},
   "outputs": [
    {
     "data": {
      "text/html": [
       "# 1 method for generic function <b>plus1</b>:<ul><li> plus1(x) in Main at <a href=\"https://github.com/tobydriscoll/julia-workshop/tree/979acca31356abe48a841d84f4ceacb5346ac504//modules_packages.ipynb#L1\" target=\"_blank\">/Users/driscoll/repos/julia-workshop/modules_packages.ipynb:1</a></li> </ul>"
      ],
      "text/plain": [
       "# 1 method for generic function \"plus1\":\n",
       "[1] plus1(x) in Main at /Users/driscoll/repos/julia-workshop/modules_packages.ipynb:1"
      ]
     },
     "metadata": {},
     "output_type": "display_data"
    }
   ],
   "source": [
    "plus1(x) = 1 + x \n",
    "methods(plus1)"
   ]
  },
  {
   "cell_type": "code",
   "execution_count": 2,
   "metadata": {},
   "outputs": [
    {
     "data": {
      "text/html": [
       "# 1 method for generic function <b>plus1</b>:<ul><li> plus1(x) in Main at <a href=\"https://github.com/tobydriscoll/julia-workshop/tree/979acca31356abe48a841d84f4ceacb5346ac504//modules_packages.ipynb#L1\" target=\"_blank\">/Users/driscoll/repos/julia-workshop/modules_packages.ipynb:1</a></li> </ul>"
      ],
      "text/plain": [
       "# 1 method for generic function \"plus1\":\n",
       "[1] plus1(x) in Main at /Users/driscoll/repos/julia-workshop/modules_packages.ipynb:1"
      ]
     },
     "metadata": {},
     "output_type": "display_data"
    }
   ],
   "source": [
    "module Foo \n",
    "\n",
    "using LinearAlgebra\n",
    "plus1(X::AbstractMatrix) = I + X\n",
    "\n",
    "end\n",
    "\n",
    "methods(plus1)"
   ]
  },
  {
   "cell_type": "code",
   "execution_count": 3,
   "metadata": {},
   "outputs": [
    {
     "data": {
      "text/html": [
       "# 1 method for generic function <b>plus1</b>:<ul><li> plus1(x) in Main at <a href=\"https://github.com/tobydriscoll/julia-workshop/tree/979acca31356abe48a841d84f4ceacb5346ac504//modules_packages.ipynb#L1\" target=\"_blank\">/Users/driscoll/repos/julia-workshop/modules_packages.ipynb:1</a></li> </ul>"
      ],
      "text/plain": [
       "# 1 method for generic function \"plus1\":\n",
       "[1] plus1(x) in Main at /Users/driscoll/repos/julia-workshop/modules_packages.ipynb:1"
      ]
     },
     "metadata": {},
     "output_type": "display_data"
    }
   ],
   "source": [
    "using .Foo\n",
    "methods(plus1)"
   ]
  },
  {
   "cell_type": "code",
   "execution_count": 4,
   "metadata": {},
   "outputs": [
    {
     "data": {
      "text/html": [
       "# 1 method for generic function <b>plus1</b>:<ul><li> plus1(X::<b>AbstractMatrix</b>) in Main.Foo at <a href=\"https://github.com/tobydriscoll/julia-workshop/tree/979acca31356abe48a841d84f4ceacb5346ac504//modules_packages.ipynb#L4\" target=\"_blank\">/Users/driscoll/repos/julia-workshop/modules_packages.ipynb:4</a></li> </ul>"
      ],
      "text/plain": [
       "# 1 method for generic function \"plus1\":\n",
       "[1] plus1(X::AbstractMatrix) in Main.Foo at /Users/driscoll/repos/julia-workshop/modules_packages.ipynb:4"
      ]
     },
     "metadata": {},
     "output_type": "display_data"
    }
   ],
   "source": [
    "methods(Foo.plus1)"
   ]
  },
  {
   "cell_type": "code",
   "execution_count": 12,
   "metadata": {},
   "outputs": [
    {
     "name": "stderr",
     "output_type": "stream",
     "text": [
      "WARNING: replacing module Bar.\n",
      "WARNING: using Bar.plus1 in module Main conflicts with an existing identifier.\n"
     ]
    },
    {
     "data": {
      "text/html": [
       "# 2 methods for generic function <b>plus1</b>:<ul><li> plus1(v::<b>AbstractVector</b>) in Main.Baz at <a href=\"https://github.com/tobydriscoll/julia-workshop/tree/979acca31356abe48a841d84f4ceacb5346ac504//modules_packages.ipynb#L4\" target=\"_blank\">/Users/driscoll/repos/julia-workshop/modules_packages.ipynb:4</a></li> <li> plus1(x) in Main at <a href=\"https://github.com/tobydriscoll/julia-workshop/tree/979acca31356abe48a841d84f4ceacb5346ac504//modules_packages.ipynb#L1\" target=\"_blank\">/Users/driscoll/repos/julia-workshop/modules_packages.ipynb:1</a></li> </ul>"
      ],
      "text/plain": [
       "# 2 methods for generic function \"plus1\":\n",
       "[1] plus1(v::AbstractVector) in Main.Baz at /Users/driscoll/repos/julia-workshop/modules_packages.ipynb:4\n",
       "[2] plus1(x) in Main at /Users/driscoll/repos/julia-workshop/modules_packages.ipynb:1"
      ]
     },
     "metadata": {},
     "output_type": "display_data"
    }
   ],
   "source": [
    "module Bar \n",
    "\n",
    "export plus1\n",
    "plus1(t::Tuple) = (1,t...)\n",
    "\n",
    "export plusone\n",
    "plusone(t::Tuple) = plus1(t)\n",
    "\n",
    "end\n",
    "\n",
    "using .Bar\n",
    "methods(plus1)"
   ]
  },
  {
   "cell_type": "code",
   "execution_count": 14,
   "metadata": {},
   "outputs": [
    {
     "ename": "MethodError",
     "evalue": "MethodError: no method matching +(::Int64, ::Tuple{Int64, Int64})\nClosest candidates are:\n  +(::Any, ::Any, !Matched::Any, !Matched::Any...) at /Applications/julia-rosetta/Julia-1.7.app/Contents/Resources/julia/share/julia/base/operators.jl:655\n  +(::T, !Matched::T) where T<:Union{Int128, Int16, Int32, Int64, Int8, UInt128, UInt16, UInt32, UInt64, UInt8} at /Applications/julia-rosetta/Julia-1.7.app/Contents/Resources/julia/share/julia/base/int.jl:87\n  +(::Union{Int16, Int32, Int64, Int8}, !Matched::BigInt) at /Applications/julia-rosetta/Julia-1.7.app/Contents/Resources/julia/share/julia/base/gmp.jl:535\n  ...",
     "output_type": "error",
     "traceback": [
      "MethodError: no method matching +(::Int64, ::Tuple{Int64, Int64})\n",
      "Closest candidates are:\n",
      "  +(::Any, ::Any, !Matched::Any, !Matched::Any...) at /Applications/julia-rosetta/Julia-1.7.app/Contents/Resources/julia/share/julia/base/operators.jl:655\n",
      "  +(::T, !Matched::T) where T<:Union{Int128, Int16, Int32, Int64, Int8, UInt128, UInt16, UInt32, UInt64, UInt8} at /Applications/julia-rosetta/Julia-1.7.app/Contents/Resources/julia/share/julia/base/int.jl:87\n",
      "  +(::Union{Int16, Int32, Int64, Int8}, !Matched::BigInt) at /Applications/julia-rosetta/Julia-1.7.app/Contents/Resources/julia/share/julia/base/gmp.jl:535\n",
      "  ...\n",
      "\n",
      "Stacktrace:\n",
      " [1] plus1(x::Tuple{Int64, Int64})\n",
      "   @ Main ~/repos/julia-workshop/modules_packages.ipynb:1\n",
      " [2] top-level scope\n",
      "   @ ~/repos/julia-workshop/modules_packages.ipynb:1"
     ]
    }
   ],
   "source": [
    "plus1((2,3))"
   ]
  },
  {
   "cell_type": "code",
   "execution_count": 7,
   "metadata": {},
   "outputs": [
    {
     "data": {
      "text/plain": [
       "(1, 2, 3)"
      ]
     },
     "metadata": {},
     "output_type": "display_data"
    }
   ],
   "source": [
    "Bar.plus1((2,3))"
   ]
  },
  {
   "cell_type": "code",
   "execution_count": 13,
   "metadata": {},
   "outputs": [
    {
     "data": {
      "text/plain": [
       "(1, 2, 3)"
      ]
     },
     "metadata": {},
     "output_type": "display_data"
    }
   ],
   "source": [
    "plusone((2,3))"
   ]
  },
  {
   "cell_type": "code",
   "execution_count": 8,
   "metadata": {},
   "outputs": [
    {
     "data": {
      "text/html": [
       "# 2 methods for generic function <b>plus1</b>:<ul><li> plus1(v::<b>AbstractVector</b>) in Main.Baz at <a href=\"https://github.com/tobydriscoll/julia-workshop/tree/979acca31356abe48a841d84f4ceacb5346ac504//modules_packages.ipynb#L4\" target=\"_blank\">/Users/driscoll/repos/julia-workshop/modules_packages.ipynb:4</a></li> <li> plus1(x) in Main at <a href=\"https://github.com/tobydriscoll/julia-workshop/tree/979acca31356abe48a841d84f4ceacb5346ac504//modules_packages.ipynb#L1\" target=\"_blank\">/Users/driscoll/repos/julia-workshop/modules_packages.ipynb:1</a></li> </ul>"
      ],
      "text/plain": [
       "# 2 methods for generic function \"plus1\":\n",
       "[1] plus1(v::AbstractVector) in Main.Baz at /Users/driscoll/repos/julia-workshop/modules_packages.ipynb:4\n",
       "[2] plus1(x) in Main at /Users/driscoll/repos/julia-workshop/modules_packages.ipynb:1"
      ]
     },
     "metadata": {},
     "output_type": "display_data"
    }
   ],
   "source": [
    "module Baz\n",
    "\n",
    "import Main:plus1 \n",
    "plus1(v::AbstractVector) = [1;v]\n",
    "\n",
    "end\n",
    "\n",
    "using .Baz \n",
    "methods(plus1)"
   ]
  },
  {
   "cell_type": "code",
   "execution_count": 9,
   "metadata": {},
   "outputs": [
    {
     "data": {
      "text/plain": [
       "4.141592653589793"
      ]
     },
     "metadata": {},
     "output_type": "display_data"
    }
   ],
   "source": [
    "plus1(pi)"
   ]
  },
  {
   "cell_type": "code",
   "execution_count": 10,
   "metadata": {},
   "outputs": [
    {
     "data": {
      "text/plain": [
       "4-element Vector{Int64}:\n",
       " 1\n",
       " 2\n",
       " 3\n",
       " 4"
      ]
     },
     "metadata": {},
     "output_type": "display_data"
    }
   ],
   "source": [
    "plus1([2,3,4])"
   ]
  },
  {
   "cell_type": "code",
   "execution_count": null,
   "metadata": {},
   "outputs": [],
   "source": []
  }
 ],
 "metadata": {
  "kernelspec": {
   "display_name": "Julia 1.7.1",
   "language": "julia",
   "name": "julia-1.7"
  },
  "language_info": {
   "file_extension": ".jl",
   "mimetype": "application/julia",
   "name": "julia",
   "version": "1.7.1"
  },
  "orig_nbformat": 4
 },
 "nbformat": 4,
 "nbformat_minor": 2
}
